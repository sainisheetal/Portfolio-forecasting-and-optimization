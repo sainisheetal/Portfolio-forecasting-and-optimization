{
 "cells": [
  {
   "cell_type": "code",
   "execution_count": null,
   "metadata": {},
   "outputs": [],
   "source": [
    "# Import libraries\n",
    "import pandas_datareader.data as web \n",
    "import datetime as dt   \n",
    "import pandas as pd   \n",
    "from matplotlib import style     \n",
    "import numpy as np   \n",
    "import yfinance as yfin \n",
    "import matplotlib.pyplot as plt\n"
   ]
  },
  {
   "cell_type": "code",
   "execution_count": null,
   "metadata": {},
   "outputs": [],
   "source": [
    "# Read Data\n",
    "data = pd.read_csv(\"./3stock.csv\", index_col='Date')\n",
    "#tickers = ['AMZN','MCD','MSFT', 'NFLX','KO']\n",
    "#tickers = ['AMZN','MCD','MSFT', 'NFLX']\n",
    "tickers = ['AMZN','MCD','MSFT']\n",
    "#tickers = ['AMZN','MCD']\n",
    "\n",
    "\n",
    "\n",
    "\n",
    "        \n",
    "\n"
   ]
  },
  {
   "cell_type": "code",
   "execution_count": null,
   "metadata": {},
   "outputs": [],
   "source": [
    "returns = data.pct_change().dropna()\n",
    "returns"
   ]
  },
  {
   "cell_type": "code",
   "execution_count": null,
   "metadata": {},
   "outputs": [],
   "source": [
    "number_of_portfolios = 1000\n",
    "RF = 0.0\n",
    "\n",
    "portfolio_returns = []\n",
    "portfolio_risks = []\n",
    "sharpe_ratios = []\n",
    "portfolio_weights = []"
   ]
  },
  {
   "cell_type": "code",
   "execution_count": null,
   "metadata": {},
   "outputs": [],
   "source": [
    "for portfolio in range(number_of_portfolios):\n",
    "    #Generate random portfolio weights\n",
    "    weights = np.random.random_sample(len(tickers))\n",
    "    weights = np.round((weights/np.sum(weights)),3)\n",
    "    portfolio_weights.append(weights)\n",
    "    \n",
    "    #Calculate annualized return\n",
    "    annualized_return = np.sum(returns.mean() * weights) * 252\n",
    "    portfolio_returns.append(annualized_return)\n",
    "    #Matrix covariance & portfolio risks calculation\n",
    "    matrix_covariance = returns.cov()*252\n",
    "    portfolio_variance = np.dot(weights.T, np.dot(matrix_covariance, weights))\n",
    "    portfolio_standard_deviation = np.sqrt(portfolio_variance)\n",
    "    portfolio_risks.append(portfolio_standard_deviation)\n",
    "    #sharp ratio\n",
    "    sharpe_ratio = annualized_return-RF/ portfolio_standard_deviation\n",
    "    sharpe_ratios.append(sharpe_ratio)\n",
    "    print(portfolio_returns)\n",
    "portfolio_returns = np.array(portfolio_returns)\n",
    "portfolio_risks = np.array(portfolio_risks)\n",
    "sharpe_ratio = np.array(sharpe_ratios)\n",
    "\n",
    "portfolio_metrics = [portfolio_returns, portfolio_risks, sharpe_ratios, portfolio_weights]\n",
    "portfolios_df = pd.DataFrame(portfolio_metrics).T\n",
    "portfolios_df.columns = ['Return', 'Risk', 'Sharpe', 'weights']\n",
    "print(portfolios_df)\n",
    "    \n",
    "\n",
    "\n",
    "\n",
    "#df = portfolios_df\n",
    "#df.to_csv('portfolio_5stock.csv')\n",
    "    \n",
    "    \n"
   ]
  },
  {
   "cell_type": "code",
   "execution_count": null,
   "metadata": {},
   "outputs": [],
   "source": [
    "#checking the risk is minimum \n",
    "min_risk = portfolios_df.iloc[portfolios_df['Risk'].astype(float).idxmin()]\n",
    "highest_return = portfolios_df.iloc[portfolios_df['Return'].astype(float).idxmax()]\n",
    "highest_sharpe = portfolios_df.iloc[portfolios_df['Sharpe'].astype(float).idxmax()]\n",
    "\n",
    "print('Lowest risk')\n",
    "print(min_risk)\n",
    "print(tickers)\n",
    "print('')\n",
    "\n",
    "print('Highest return')\n",
    "print(highest_return)\n",
    "print(tickers)\n",
    "print('')\n",
    "\n",
    "print('Highest sharpe ratio')\n",
    "print(highest_sharpe)\n",
    "print(tickers)\n",
    "print('')\n",
    "\n"
   ]
  },
  {
   "attachments": {},
   "cell_type": "markdown",
   "metadata": {},
   "source": [
    "Visualisation"
   ]
  },
  {
   "cell_type": "code",
   "execution_count": null,
   "metadata": {},
   "outputs": [],
   "source": [
    "plt.figure(figsize = (10,5))\n",
    "plt.scatter(portfolio_risks, portfolio_returns, c = portfolio_returns/portfolio_risks)\n",
    "plt.title('Portfolio optimization', fontsize = 26)\n",
    "\n",
    "plt.xlabel('Volatility', fontsize = 20)\n",
    "plt.ylabel('Return', fontsize = 20)\n",
    "plt.xticks(fontsize = 15)\n",
    "plt.yticks(fontsize = 15)\n",
    "plt.colorbar(label = 'sharpe_ratio')\n",
    "\n",
    "\n"
   ]
  }
 ],
 "metadata": {
  "kernelspec": {
   "display_name": "Python 3",
   "language": "python",
   "name": "python3"
  },
  "language_info": {
   "codemirror_mode": {
    "name": "ipython",
    "version": 3
   },
   "file_extension": ".py",
   "mimetype": "text/x-python",
   "name": "python",
   "nbconvert_exporter": "python",
   "pygments_lexer": "ipython3",
   "version": "3.10.10"
  },
  "orig_nbformat": 4
 },
 "nbformat": 4,
 "nbformat_minor": 2
}
